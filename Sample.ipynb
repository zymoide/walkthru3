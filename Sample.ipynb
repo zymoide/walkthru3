{
 "cells": [
  {
   "cell_type": "markdown",
   "id": "d175fdb2-6f6c-451e-9973-dd1934f445f1",
   "metadata": {},
   "source": [
    "## Hello "
   ]
  },
  {
   "cell_type": "markdown",
   "id": "6e80e3ba-0624-45ef-965d-18e267c744cd",
   "metadata": {},
   "source": [
    "This is how I create a simple rank-1 tensor aka scalar:"
   ]
  },
  {
   "cell_type": "code",
   "execution_count": 3,
   "id": "2d6c8d4e-3a2e-4577-bf10-99ae59be095c",
   "metadata": {},
   "outputs": [],
   "source": [
    "import torch "
   ]
  },
  {
   "cell_type": "code",
   "execution_count": 4,
   "id": "fc31de7b-d7a0-4e23-8945-72f3aecf923a",
   "metadata": {},
   "outputs": [
    {
     "data": {
      "text/plain": [
       "tensor(3)"
      ]
     },
     "execution_count": 4,
     "metadata": {},
     "output_type": "execute_result"
    }
   ],
   "source": [
    "torch.tensor(3)"
   ]
  },
  {
   "cell_type": "code",
   "execution_count": null,
   "id": "281a5896-6700-4d18-b202-616796c488d5",
   "metadata": {},
   "outputs": [],
   "source": [
    "torch.tensor("
   ]
  }
 ],
 "metadata": {
  "kernelspec": {
   "display_name": "Python 3 (ipykernel)",
   "language": "python",
   "name": "python3"
  },
  "language_info": {
   "codemirror_mode": {
    "name": "ipython",
    "version": 3
   },
   "file_extension": ".py",
   "mimetype": "text/x-python",
   "name": "python",
   "nbconvert_exporter": "python",
   "pygments_lexer": "ipython3",
   "version": "3.9.13"
  }
 },
 "nbformat": 4,
 "nbformat_minor": 5
}
